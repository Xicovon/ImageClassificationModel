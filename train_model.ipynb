{
 "cells": [
  {
   "cell_type": "code",
   "execution_count": 1,
   "metadata": {},
   "outputs": [
    {
     "name": "stdout",
     "output_type": "stream",
     "text": [
      "Model: \"sequential\"\n",
      "_________________________________________________________________\n",
      "Layer (type)                 Output Shape              Param #   \n",
      "=================================================================\n",
      "conv2d (Conv2D)              (None, 62, 62, 32)        2432      \n",
      "_________________________________________________________________\n",
      "max_pooling2d (MaxPooling2D) (None, 31, 31, 32)        0         \n",
      "_________________________________________________________________\n",
      "conv2d_1 (Conv2D)            (None, 29, 29, 64)        18496     \n",
      "_________________________________________________________________\n",
      "max_pooling2d_1 (MaxPooling2 (None, 14, 14, 64)        0         \n",
      "_________________________________________________________________\n",
      "conv2d_2 (Conv2D)            (None, 12, 12, 128)       73856     \n",
      "_________________________________________________________________\n",
      "max_pooling2d_2 (MaxPooling2 (None, 6, 6, 128)         0         \n",
      "_________________________________________________________________\n",
      "conv2d_3 (Conv2D)            (None, 4, 4, 256)         295168    \n",
      "_________________________________________________________________\n",
      "max_pooling2d_3 (MaxPooling2 (None, 2, 2, 256)         0         \n",
      "_________________________________________________________________\n",
      "flatten (Flatten)            (None, 1024)              0         \n",
      "_________________________________________________________________\n",
      "dropout (Dropout)            (None, 1024)              0         \n",
      "_________________________________________________________________\n",
      "dense (Dense)                (None, 256)               262400    \n",
      "_________________________________________________________________\n",
      "activation (Activation)      (None, 256)               0         \n",
      "_________________________________________________________________\n",
      "dropout_1 (Dropout)          (None, 256)               0         \n",
      "_________________________________________________________________\n",
      "dense_1 (Dense)              (None, 10)                2570      \n",
      "_________________________________________________________________\n",
      "activation_1 (Activation)    (None, 10)                0         \n",
      "=================================================================\n",
      "Total params: 654,922\n",
      "Trainable params: 654,922\n",
      "Non-trainable params: 0\n",
      "_________________________________________________________________\n"
     ]
    }
   ],
   "source": [
    "from tensorflow import keras\n",
    "from tensorflow.keras.models import Sequential\n",
    "from tensorflow.keras.layers import Conv2D, MaxPooling2D\n",
    "from tensorflow.keras.layers import Dense, Activation, Flatten, Dropout\n",
    "from tensorflow.keras.preprocessing.image import ImageDataGenerator\n",
    "\n",
    "cnn = Sequential()\n",
    "cnn.add(Conv2D(filters=32, kernel_size=(5,5), strides=(2,2), padding='valid', activation=\"relu\",\n",
    "               input_shape=(128,128,3), data_format='channels_last'))\n",
    "cnn.add(MaxPooling2D(pool_size=(2,2), strides=2))\n",
    "\n",
    "cnn.add(Conv2D(filters=64, kernel_size=(3,3), strides=(1,1), padding='valid', activation=\"relu\"))\n",
    "cnn.add(MaxPooling2D(pool_size=(2,2), strides=2))\n",
    "\n",
    "cnn.add(Conv2D(filters=128, kernel_size=(3,3), strides=(1,1), padding='valid', activation=\"relu\"))\n",
    "cnn.add(MaxPooling2D(pool_size=(2,2), strides=2))\n",
    "\n",
    "cnn.add(Conv2D(filters=256, kernel_size=(3,3), strides=(1,1), padding='valid', activation=\"relu\"))\n",
    "cnn.add(MaxPooling2D(pool_size=(2,2), strides=2))\n",
    "\n",
    "cnn.add(Flatten())\n",
    "cnn.add(Dropout(0.1))\n",
    "cnn.add(Dense(256))\n",
    "cnn.add(Activation('relu'))\n",
    "cnn.add(Dropout(0.3))\n",
    "cnn.add(Dense(10))\n",
    "cnn.add(Activation('softmax'))\n",
    "cnn.compile(loss='categorical_crossentropy', \n",
    "            optimizer=keras.optimizers.Adam(learning_rate=0.001), \n",
    "            metrics=['accuracy'])\n",
    "cnn.summary()"
   ]
  },
  {
   "cell_type": "code",
   "execution_count": 2,
   "metadata": {},
   "outputs": [
    {
     "name": "stdout",
     "output_type": "stream",
     "text": [
      "Found 14130 images belonging to 10 classes.\n",
      "Found 3606 images belonging to 10 classes.\n"
     ]
    }
   ],
   "source": [
    "from tensorflow.keras.preprocessing.image import ImageDataGenerator\n",
    "\n",
    "# Image Generator for Keras\n",
    "train_datagen = ImageDataGenerator(rotation_range = 90, rescale = 1./255, horizontal_flip = True)\n",
    "train_generator = train_datagen.flow_from_directory('cropped_data/train',\n",
    "    target_size=(128,128), batch_size=256, class_mode='categorical')\n",
    "\n",
    "validation_datagen = ImageDataGenerator(rescale=1./255)\n",
    "validation_generator = validation_datagen.flow_from_directory('cropped_data/validation',\n",
    "    target_size=(128,128), batch_size=256, class_mode='categorical')"
   ]
  },
  {
   "cell_type": "code",
   "execution_count": 3,
   "metadata": {},
   "outputs": [
    {
     "name": "stdout",
     "output_type": "stream",
     "text": [
      "Epoch 1/50\n",
      "14/14 [==============================] - 66s 5s/step - loss: 2.2434 - accuracy: 0.1470 - val_loss: 2.1003 - val_accuracy: 0.2329\n",
      "Epoch 2/50\n",
      "14/14 [==============================] - 64s 5s/step - loss: 2.0402 - accuracy: 0.2399 - val_loss: 1.8595 - val_accuracy: 0.3170\n",
      "Epoch 3/50\n",
      "14/14 [==============================] - 69s 5s/step - loss: 1.8672 - accuracy: 0.3152 - val_loss: 1.6955 - val_accuracy: 0.3874\n",
      "Epoch 4/50\n",
      "14/14 [==============================] - 71s 5s/step - loss: 1.7275 - accuracy: 0.3744 - val_loss: 1.6029 - val_accuracy: 0.4207\n",
      "Epoch 5/50\n",
      "14/14 [==============================] - 71s 5s/step - loss: 1.6326 - accuracy: 0.4007 - val_loss: 1.4963 - val_accuracy: 0.4645\n",
      "Epoch 6/50\n",
      "14/14 [==============================] - 75s 5s/step - loss: 1.5191 - accuracy: 0.4545 - val_loss: 1.4265 - val_accuracy: 0.4922\n",
      "Epoch 7/50\n",
      "14/14 [==============================] - 68s 5s/step - loss: 1.4470 - accuracy: 0.4798 - val_loss: 1.3239 - val_accuracy: 0.5355\n",
      "Epoch 8/50\n",
      "14/14 [==============================] - 70s 5s/step - loss: 1.4332 - accuracy: 0.4793 - val_loss: 1.2944 - val_accuracy: 0.5438\n",
      "Epoch 9/50\n",
      "14/14 [==============================] - 70s 5s/step - loss: 1.3614 - accuracy: 0.5089 - val_loss: 1.2264 - val_accuracy: 0.5577\n",
      "Epoch 10/50\n",
      "14/14 [==============================] - 69s 5s/step - loss: 1.2923 - accuracy: 0.5457 - val_loss: 1.1823 - val_accuracy: 0.5868\n",
      "Epoch 11/50\n",
      "14/14 [==============================] - 68s 5s/step - loss: 1.2522 - accuracy: 0.5612 - val_loss: 1.1381 - val_accuracy: 0.5921\n",
      "Epoch 12/50\n",
      "14/14 [==============================] - 69s 5s/step - loss: 1.2146 - accuracy: 0.5705 - val_loss: 1.1088 - val_accuracy: 0.6173\n",
      "Epoch 13/50\n",
      "14/14 [==============================] - 67s 5s/step - loss: 1.1917 - accuracy: 0.5795 - val_loss: 1.1030 - val_accuracy: 0.6242\n",
      "Epoch 14/50\n",
      "14/14 [==============================] - 66s 5s/step - loss: 1.1595 - accuracy: 0.5999 - val_loss: 1.0610 - val_accuracy: 0.6320\n",
      "Epoch 15/50\n",
      "14/14 [==============================] - 67s 5s/step - loss: 1.1111 - accuracy: 0.6055 - val_loss: 1.0350 - val_accuracy: 0.6436\n",
      "Epoch 16/50\n",
      "14/14 [==============================] - 66s 5s/step - loss: 1.1215 - accuracy: 0.6123 - val_loss: 1.0172 - val_accuracy: 0.6520\n",
      "Epoch 17/50\n",
      "14/14 [==============================] - 69s 5s/step - loss: 1.0801 - accuracy: 0.6271 - val_loss: 0.9822 - val_accuracy: 0.6517\n",
      "Epoch 18/50\n",
      "14/14 [==============================] - 69s 5s/step - loss: 1.0420 - accuracy: 0.6390 - val_loss: 0.9546 - val_accuracy: 0.6633\n",
      "Epoch 19/50\n",
      "14/14 [==============================] - 69s 5s/step - loss: 1.0183 - accuracy: 0.6475 - val_loss: 0.9664 - val_accuracy: 0.6611\n",
      "Epoch 20/50\n",
      "14/14 [==============================] - 68s 5s/step - loss: 1.0150 - accuracy: 0.6535 - val_loss: 0.9248 - val_accuracy: 0.6808\n",
      "Epoch 21/50\n",
      "14/14 [==============================] - 69s 5s/step - loss: 0.9762 - accuracy: 0.6655 - val_loss: 0.8886 - val_accuracy: 0.6938\n",
      "Epoch 22/50\n",
      "14/14 [==============================] - 67s 5s/step - loss: 0.9742 - accuracy: 0.6607 - val_loss: 0.9378 - val_accuracy: 0.6828\n",
      "Epoch 23/50\n",
      "14/14 [==============================] - 69s 5s/step - loss: 0.9883 - accuracy: 0.6556 - val_loss: 0.9313 - val_accuracy: 0.6839\n",
      "Epoch 24/50\n",
      "14/14 [==============================] - 69s 5s/step - loss: 0.9577 - accuracy: 0.6690 - val_loss: 0.8715 - val_accuracy: 0.6977\n",
      "Epoch 25/50\n",
      "14/14 [==============================] - 69s 5s/step - loss: 0.9418 - accuracy: 0.6763 - val_loss: 0.8389 - val_accuracy: 0.7171\n",
      "Epoch 26/50\n",
      "14/14 [==============================] - 67s 5s/step - loss: 0.9396 - accuracy: 0.6762 - val_loss: 0.8644 - val_accuracy: 0.7035\n",
      "Epoch 27/50\n",
      "14/14 [==============================] - 69s 5s/step - loss: 0.8856 - accuracy: 0.6919 - val_loss: 0.8350 - val_accuracy: 0.7158\n",
      "Epoch 28/50\n",
      "14/14 [==============================] - 68s 5s/step - loss: 0.9143 - accuracy: 0.6904 - val_loss: 0.8340 - val_accuracy: 0.7094\n",
      "Epoch 29/50\n",
      "14/14 [==============================] - 65s 5s/step - loss: 0.8911 - accuracy: 0.6915 - val_loss: 0.7958 - val_accuracy: 0.7296\n",
      "Epoch 30/50\n",
      "14/14 [==============================] - 67s 5s/step - loss: 0.8635 - accuracy: 0.7079 - val_loss: 0.7888 - val_accuracy: 0.7299\n",
      "Epoch 31/50\n",
      "14/14 [==============================] - 66s 5s/step - loss: 0.8761 - accuracy: 0.7034 - val_loss: 0.8089 - val_accuracy: 0.7260\n",
      "Epoch 32/50\n",
      "14/14 [==============================] - 71s 5s/step - loss: 0.8486 - accuracy: 0.7120 - val_loss: 0.7659 - val_accuracy: 0.7418\n",
      "Epoch 33/50\n",
      "14/14 [==============================] - 69s 5s/step - loss: 0.8525 - accuracy: 0.7085 - val_loss: 0.7718 - val_accuracy: 0.7379\n",
      "Epoch 34/50\n",
      "14/14 [==============================] - 66s 5s/step - loss: 0.8284 - accuracy: 0.7135 - val_loss: 0.7995 - val_accuracy: 0.7205\n",
      "Epoch 35/50\n",
      "14/14 [==============================] - 69s 5s/step - loss: 0.8458 - accuracy: 0.7134 - val_loss: 0.7845 - val_accuracy: 0.7288\n",
      "Epoch 36/50\n",
      "14/14 [==============================] - 69s 5s/step - loss: 0.8433 - accuracy: 0.7114 - val_loss: 0.7596 - val_accuracy: 0.7379\n",
      "Epoch 37/50\n",
      "14/14 [==============================] - 67s 5s/step - loss: 0.8219 - accuracy: 0.7194 - val_loss: 0.7634 - val_accuracy: 0.7429\n",
      "Epoch 38/50\n",
      "14/14 [==============================] - 69s 5s/step - loss: 0.8330 - accuracy: 0.7157 - val_loss: 0.7476 - val_accuracy: 0.7399\n",
      "Epoch 39/50\n",
      "14/14 [==============================] - 68s 5s/step - loss: 0.8064 - accuracy: 0.7268 - val_loss: 0.7414 - val_accuracy: 0.7443\n",
      "Epoch 40/50\n",
      "14/14 [==============================] - 68s 5s/step - loss: 0.7929 - accuracy: 0.7306 - val_loss: 0.7295 - val_accuracy: 0.7543\n",
      "Epoch 41/50\n",
      "14/14 [==============================] - 70s 5s/step - loss: 0.7855 - accuracy: 0.7363 - val_loss: 0.7700 - val_accuracy: 0.7349\n",
      "Epoch 42/50\n",
      "14/14 [==============================] - 68s 5s/step - loss: 0.7942 - accuracy: 0.7290 - val_loss: 0.7115 - val_accuracy: 0.7571\n",
      "Epoch 43/50\n",
      "14/14 [==============================] - 68s 5s/step - loss: 0.7665 - accuracy: 0.7416 - val_loss: 0.7235 - val_accuracy: 0.7549\n",
      "Epoch 44/50\n",
      "14/14 [==============================] - 68s 5s/step - loss: 0.7866 - accuracy: 0.7342 - val_loss: 0.7070 - val_accuracy: 0.7615\n",
      "Epoch 45/50\n",
      "14/14 [==============================] - 67s 5s/step - loss: 0.7427 - accuracy: 0.7472 - val_loss: 0.7071 - val_accuracy: 0.7568\n",
      "Epoch 46/50\n",
      "14/14 [==============================] - 67s 5s/step - loss: 0.7528 - accuracy: 0.7451 - val_loss: 0.6948 - val_accuracy: 0.7607\n",
      "Epoch 47/50\n",
      "14/14 [==============================] - 69s 5s/step - loss: 0.7438 - accuracy: 0.7457 - val_loss: 0.6930 - val_accuracy: 0.7598\n",
      "Epoch 48/50\n",
      "14/14 [==============================] - 65s 5s/step - loss: 0.7454 - accuracy: 0.7422 - val_loss: 0.7109 - val_accuracy: 0.7615\n",
      "Epoch 49/50\n",
      "14/14 [==============================] - 69s 5s/step - loss: 0.7760 - accuracy: 0.7346 - val_loss: 0.7078 - val_accuracy: 0.7568\n",
      "Epoch 50/50\n",
      "14/14 [==============================] - 75s 5s/step - loss: 0.7294 - accuracy: 0.7501 - val_loss: 0.6879 - val_accuracy: 0.7646\n",
      "Processing time: 57.031082506974535\n"
     ]
    }
   ],
   "source": [
    "import time\n",
    "start = time.time()\n",
    "cnn.fit(\n",
    "    train_generator,\n",
    "    epochs=50,\n",
    "    validation_data=validation_generator)\n",
    "end = time.time()\n",
    "print('Processing time:',(end-start)/60)"
   ]
  },
  {
   "cell_type": "code",
   "execution_count": 7,
   "metadata": {},
   "outputs": [
    {
     "name": "stdout",
     "output_type": "stream",
     "text": [
      "INFO:tensorflow:Assets written to: C:\\Users\\Bowen\\Documents\\assets\n"
     ]
    }
   ],
   "source": [
    "cnn.save('C:\\\\Users\\\\Bowen\\\\Documents\\\\')"
   ]
  },
  {
   "cell_type": "code",
   "execution_count": 38,
   "metadata": {},
   "outputs": [
    {
     "data": {
      "image/png": "[encoded data removed]",
      "text/plain": [
       "<Figure size 1440x720 with 32 Axes>"
      ]
     },
     "metadata": {
      "needs_background": "light"
     },
     "output_type": "display_data"
    }
   ],
   "source": [
    "import numpy as np\n",
    "import matplotlib.pyplot as plt\n",
    "\n",
    "# Pull the 32 kernels from the first convolutional layer\n",
    "\n",
    "fig=plt.figure(figsize=(20, 10))\n",
    "columns, rows = 8, 4\n",
    "for i in range(1, columns*rows +1):\n",
    "    f = filters[:, :, :, i-1]\n",
    "    img = Image.fromarray(f, 'RGB')\n",
    "    img = img.convert(\"LA\")\n",
    "    fig.add_subplot(rows, columns, i)\n",
    "    plt.imshow(img)\n",
    "plt.show()"
   ]
  },
  {
   "cell_type": "code",
   "execution_count": 64,
   "metadata": {},
   "outputs": [],
   "source": [
    "from tensorflow.keras import backend\n",
    "\n",
    "def calculate_recall(true, pred):\n",
    "    return backend.sum(backend.round(backend.clip(true * pred, 0, 1))) / (backend.sum(backend.round(backend.clip(true, 0, 1))) + backend.epsilon())\n",
    "\n",
    "def calculate_precision(true, pred):\n",
    "    return backend.sum(backend.round(backend.clip(true * pred, 0, 1))) / (backend.sum(backend.round(backend.clip(pred, 0, 1))) + backend.epsilon())\n",
    "\n",
    "def calculate_f1(true, pred):\n",
    "    precision = precision_m(true, pred)\n",
    "    recall = recall_m(true, pred)\n",
    "    return 2*((precision*recall)/(precision+recall+backend.epsilon()))"
   ]
  },
  {
   "cell_type": "code",
   "execution_count": 44,
   "metadata": {},
   "outputs": [],
   "source": [
    "cnn.compile(loss='categorical_crossentropy', \n",
    "    optimizer=keras.optimizers.Adam(learning_rate=0.001), \n",
    "    metrics=['accuracy', recall_m, precision_m, f1_m])"
   ]
  },
  {
   "cell_type": "code",
   "execution_count": 45,
   "metadata": {},
   "outputs": [],
   "source": [
    "loss, accuracy, recall, precision, f1_score  = cnn.evaluate(validation_generator, verbose=0)"
   ]
  },
  {
   "cell_type": "code",
   "execution_count": 65,
   "metadata": {},
   "outputs": [
    {
     "name": "stdout",
     "output_type": "stream",
     "text": [
      "0.6878608465194702\n",
      "0.7645590901374817\n",
      "0.6846151351928711\n",
      "0.8460718393325806\n",
      "0.7568193078041077\n"
     ]
    }
   ],
   "source": [
    "print(loss)\n",
    "print(accuracy)\n",
    "print(recall)\n",
    "print(precision)\n",
    "print(f1_score)"
   ]
  },
  {
   "cell_type": "code",
   "execution_count": null,
   "metadata": {},
   "outputs": [],
   "source": []
  }
 ],
 "metadata": {
  "kernelspec": {
   "display_name": "Python 3",
   "language": "python",
   "name": "python3"
  },
  "language_info": {
   "codemirror_mode": {
    "name": "ipython",
    "version": 3
   },
   "file_extension": ".py",
   "mimetype": "text/x-python",
   "name": "python",
   "nbconvert_exporter": "python",
   "pygments_lexer": "ipython3",
   "version": "3.7.6"
  }
 },
 "nbformat": 4,
 "nbformat_minor": 4
}
