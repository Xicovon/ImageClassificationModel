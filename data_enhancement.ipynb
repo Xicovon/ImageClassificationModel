{
 "cells": [
  {
   "cell_type": "code",
   "execution_count": 20,
   "metadata": {},
   "outputs": [],
   "source": [
    "import h5py\n",
    "import numpy as np\n",
    "from tensorflow.keras import utils\n",
    "from PIL import Image\n",
    "\n",
    "def class_to_dir(str):\n",
    "    switcher = {\n",
    "        0: \"Disturbed Galaxies\\\\\",\n",
    "        1: \"Merging Galaxies\\\\\",\n",
    "        2: \"Round Smooth Galaxies\\\\\",\n",
    "        3: \"In-between Round Smooth Galaxies\\\\\",\n",
    "        4: \"Cigar Shaped Smooth Galaxies\\\\\",\n",
    "        5: \"Barred Spiral Galaxies\\\\\",\n",
    "        6: \"Unbarred Tight Spiral Galaxies\\\\\",\n",
    "        7: \"Unbarred Loose Spiral Galaxies\\\\\",\n",
    "        8: \"Edge-on Galaxies without Bulge\\\\\",\n",
    "        9: \"Edge-on Galaxies with Bulge\\\\\"\n",
    "    }\n",
    "    return switcher.get(str, \"None\\\\\")\n",
    "\n",
    "# To get the images and labels from file while observing memory restrictions\n",
    "with h5py.File('Galaxy10_DECals.h5', 'r') as F:\n",
    "    img_arrays = np.array(F['images'])\n",
    "    labels = np.array(F['ans'])\n",
    "    \n",
    "    for i in range(0, len(img_arrays)):\n",
    "        dir = \"C:\\\\Users\\\\Bowen\\\\Documents\\\\Images\\\\\"\n",
    "        \n",
    "        img = Image.fromarray(img_arrays[i], 'RGB')\n",
    "        img.save(dir + class_to_dir(labels[i]) + \"\\\\img_{}.png\".format(i))"
   ]
  },
  {
   "cell_type": "code",
   "execution_count": 2,
   "metadata": {},
   "outputs": [],
   "source": [
    "# To convert the labels to categorical 10 classes\n",
    "labels = utils.to_categorical(labels, 10)\n",
    "# To convert to desirable type\n",
    "labels = labels.astype(np.float32)\n",
    "images = images.astype(np.float32)"
   ]
  },
  {
   "cell_type": "markdown",
   "metadata": {},
   "source": [
    "Galaxy10 dataset (17736 images)<br>\n",
    "├── Class 0 (1081 images): Disturbed Galaxies<br>\n",
    "├── Class 1 (1853 images): Merging Galaxies<br>\n",
    "├── Class 2 (2645 images): Round Smooth Galaxies<br>\n",
    "├── Class 3 (2027 images): In-between Round Smooth Galaxies<br>\n",
    "├── Class 4 ( 334 images): Cigar Shaped Smooth Galaxies<br>\n",
    "├── Class 5 (2043 images): Barred Spiral Galaxies<br>\n",
    "├── Class 6 (1829 images): Unbarred Tight Spiral Galaxies<br>\n",
    "├── Class 7 (2628 images): Unbarred Loose Spiral Galaxies<br>\n",
    "├── Class 8 (1423 images): Edge-on Galaxies without Bulge<br>\n",
    "└── Class 9 (1873 images): Edge-on Galaxies with Bulge"
   ]
  },
  {
   "cell_type": "code",
   "execution_count": null,
   "metadata": {},
   "outputs": [],
   "source": []
  }
 ],
 "metadata": {
  "kernelspec": {
   "display_name": "Python 3",
   "language": "python",
   "name": "python3"
  },
  "language_info": {
   "codemirror_mode": {
    "name": "ipython",
    "version": 3
   },
   "file_extension": ".py",
   "mimetype": "text/x-python",
   "name": "python",
   "nbconvert_exporter": "python",
   "pygments_lexer": "ipython3",
   "version": "3.7.6"
  }
 },
 "nbformat": 4,
 "nbformat_minor": 4
}
