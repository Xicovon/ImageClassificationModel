{
 "cells": [
  {
   "cell_type": "code",
   "execution_count": 3,
   "metadata": {},
   "outputs": [],
   "source": [
    "import cv2\n",
    "import os\n",
    "# import PIL\n",
    "\n",
    "def load_data(in_dir, out_dir):\n",
    "    y = 1\n",
    "    x = 1\n",
    "    h = 128\n",
    "    w = 128\n",
    "    \n",
    "    for path in next(os.walk(in_dir))[1]:\n",
    "        \n",
    "        for img_name in next(os.walk(in_dir + \"\\\\\" + path))[2]:\n",
    "            img = cv2.imread(in_dir + \"\\\\\" + path + \"\\\\\" + img_name)\n",
    "            cv2.imwrite(out_dir + \"\\\\\" + path + \"\\\\crp_\" + img_name, img[y:h-y, x:w-x])\n",
    "            \n",
    "load_data(\"data\\\\train\", \"cropped_data\\\\train\")\n",
    "load_data(\"data\\\\validation\", \"cropped_data\\\\validation\")\n"
   ]
  },
  {
   "cell_type": "code",
   "execution_count": 6,
   "metadata": {},
   "outputs": [
    {
     "name": "stdout",
     "output_type": "stream",
     "text": [
      "(128, 128, 3)\n"
     ]
    }
   ],
   "source": [
    "from tensorflow.keras.preprocessing.image import img_to_array, load_img\n",
    "img_data = load_img(\"C:\\\\Users\\\\Bowen\\\\Desktop\\\\cropped_data\\\\validation\\\\Barred Spiral Galaxies\\\\0.png\")\n",
    "print(img_to_array(img_data).shape)"
   ]
  },
  {
   "cell_type": "code",
   "execution_count": null,
   "metadata": {},
   "outputs": [],
   "source": []
  }
 ],
 "metadata": {
  "kernelspec": {
   "display_name": "Python 3",
   "language": "python",
   "name": "python3"
  },
  "language_info": {
   "codemirror_mode": {
    "name": "ipython",
    "version": 3
   },
   "file_extension": ".py",
   "mimetype": "text/x-python",
   "name": "python",
   "nbconvert_exporter": "python",
   "pygments_lexer": "ipython3",
   "version": "3.7.6"
  }
 },
 "nbformat": 4,
 "nbformat_minor": 4
}
